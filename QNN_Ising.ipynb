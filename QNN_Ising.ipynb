{
 "cells": [
  {
   "cell_type": "code",
   "execution_count": null,
   "metadata": {},
   "outputs": [],
   "source": [
    "import math\n",
    "from math import floor, log2\n",
    "from dimod import ConstrainedQuadraticModel, BinaryQuadraticModel, QuadraticModel\n",
    "from dimod import Integer, Spin, Real\n",
    "import numpy as np\n",
    "import pickle\n",
    "from dimod import SampleSet\n",
    "from dwave.system import LeapHybridCQMSampler\n",
    "import dwave.inspector\n",
    "\n",
    "from numpy import arange, hstack, meshgrid, where\n",
    "\n",
    "from matplotlib import pyplot\n",
    "import matplotlib.pyplot as plt\n",
    "\n",
    "import sys\n",
    "from skimage.measure import block_reduce\n",
    "\n",
    "from sklearn.metrics import confusion_matrix\n",
    "import pandas as pd\n",
    "import seaborn as sn\n",
    "\n",
    "\n",
    "\n",
    "stdout = sys.stdout"
   ]
  },
  {
   "cell_type": "code",
   "execution_count": 2,
   "metadata": {},
   "outputs": [],
   "source": [
    "class QNN_QUBO:\n",
    "\n",
    "    def __init__(self, N=1, L=4, H=3, n=2, m=1, B=2, P=200):\n",
    "        self.N, self.L = N, L\n",
    "        self.H, self.n, self.m = H, n, m\n",
    "        self.B, self.P = B, P\n",
    "\n",
    "        self.cqm = ConstrainedQuadraticModel()\n",
    "\n",
    "\n",
    "    def create_bounds(self):\n",
    "        # Input layer decimal variables ranges\n",
    "        self.b_1_lb = 0\n",
    "        self.b_1_ub = 2 ** (floor(log2(self.n * (2 ** (self.B + 1))) + 1)) - 1\n",
    "\n",
    "        self.s_1_lb = (-1) * self.n * (2 ** self.B)\n",
    "        self.s_1_ub = (2 ** self.B) * self.n + self.b_1_ub - self.n * (2 ** self.B)\n",
    "\n",
    "        self.r_1_lb = 0\n",
    "        self.r_1_ub = 2 ** (floor(log2(3 * self.n * (2 ** self.B)) + 1)) - 1\n",
    "\n",
    "        self.t_1_lb = 0\n",
    "        self.t_1_ub = 2 ** (floor(log2(3 * self.n * (2 ** (self.B + 1))) + 1)) - 1\n",
    "\n",
    "        # Hidden layer\n",
    "\n",
    "        self.s_k_lb = -1\n",
    "        self.s_k_ub = 2 ** (floor(log2(2 * self.H) + 1)) - 2\n",
    "\n",
    "        self.r_k_lb = 0\n",
    "        self.r_k_ub = 2 ** (floor(log2(2 * self.H) + 1)) - 1\n",
    "\n",
    "        # Output layer\n",
    "        self.w_L_lb = ( (-1)/ (self.H+1) ) * (2**self.B) \n",
    "        self.w_L_ub = ( 1 / (self.H+1) ) * (2**self.B) \n",
    "\n",
    "\n",
    "        self.b_L_lb = ( (-1)/ (self.H+1) ) * (2**self.B) \n",
    "        self.b_L_ub = ( 1 / (self.H+1) ) * (2**self.B) \n",
    "        self.y_lb = (-1) * 2 ** (self.B+1)\n",
    "        self.y_ub = 2 ** (self.B+1)\n",
    "\n",
    "    \n",
    "    def create_variables(self, classification=True):\n",
    "        # Crear las variables\n",
    "        if classification:\n",
    "            self.y_hat = [[Spin(f'y-hat_{i}_{m2}') for m2 in range(self.m)] for i in range(self.N)]\n",
    "        else:\n",
    "            self.y_hat = [[Integer(f'y-hat_{i}_{m2}', lower_bound=self.y_lb, upper_bound=self.y_ub) for m2 in range(self.m)] for i in range(self.N)]\n",
    "\n",
    "        self.a = [[[Spin(f'a_{i}^({k}_{h})') for h in range(self.H)] for k in range(1, self.L-1)] for i in range(self.N)]\n",
    "\n",
    "        self.s_1 = [[[Integer(f's_{i}^({1}_{h})', lower_bound=self.s_1_lb, upper_bound=self.s_1_ub) for h in range(self.H)]] for i in range(self.N)]\n",
    "        self.s_k = [[[Integer(f's_{i}^({k}_{h})', lower_bound=self.s_k_lb, upper_bound=self.s_k_ub) for h in range(self.H)] for k in range(2, self.L-1)] for i in range(self.N)]\n",
    "        self.s = [s1 + sk for s1, sk in zip(self.s_1, self.s_k)]\n",
    "\n",
    "        self.b = [[Integer(f'b^({1})_{h}', lower_bound=self.b_1_lb, upper_bound=self.b_1_ub) for h in range(self.H)]]\n",
    "        self.b_out = [[Integer(f'b^({self.L-1})_{m2}', lower_bound=self.b_L_lb, upper_bound=self.b_L_ub) for m2 in range(self.m)]]\n",
    "        self.b += self.b_out\n",
    "\n",
    "\n",
    "        self.W = [[[Spin(f'W^({1})_{h}_{n2}') for n2 in range(self.n)] for h in range(self.H)]]\n",
    "        self.W_hidden = [[[Spin(f'W^({k})_{h}_{h2}') for h2 in range(self.H)] for h in range(self.H)] for k in range(2, self.L - 1)]\n",
    "        self.W_out = [[[Integer(f'W^({self.L-1})_{h}_{m2}', lower_bound=self.w_L_lb, upper_bound=self.w_L_ub) for h in range(self.H)] for m2 in range(self.m)]]\n",
    "        self.W += self.W_hidden + self.W_out\n",
    "\n",
    "\n",
    "        self.r_1 = [[[Integer(f'r_{i}^({1})_{h}', lower_bound=self.r_1_lb, upper_bound=self.r_1_ub) for h in range(self.H)]] for i in range(self.N)]\n",
    "        self.r_k = [[[Integer(f'r_{i}^({k})_{h}', lower_bound=self.r_k_lb, upper_bound=self.r_k_ub) for h in range(self.H)] for k in range(2, self.L - 1)] for i in range(self.N)]\n",
    "        self.r = [r1 + rk for r1, rk in zip(self.r_1, self.r_k)]\n",
    "\n",
    "\n",
    "        #t = [[Integer(f't_{i}^({1})_{h}', lower_bound=t_1_lb, upper_bound=t_1_ub) for h in range(H)] for i in range(N)]\n",
    "        self.t = [[[Integer(f't_{i}^({k})_{h}', lower_bound=self.t_1_lb, upper_bound=self.t_1_ub) for h in range(self.H)] for k in range(1, self.L - 1)] for i in range(self.N)]\n",
    "\n",
    "    def set_objective(self, y_data, multiplier=1):\n",
    "        mse = [( multiplier * (y1 - y2)**2) for i in range(self.N) for y1, y2 in zip(y_data[i], self.y_hat[i]) ]\n",
    "        print(mse)\n",
    "        self.cqm.set_objective(sum(mse))\n",
    "\n",
    "\n",
    "    def set_contraints(self, x_data):\n",
    "\n",
    "        # Activacion 1\n",
    "        # a * s = r\n",
    "        for i in range(self.N):\n",
    "            for k in range(self.L-2):\n",
    "                for h in range(self.H):\n",
    "                    self.cqm.add_constraint(self.a[i][k][h] * self.s[i][k][h] - self.r[i][k][h] == 0, label=f'Activacion1_{i}^({k}, {h})')\n",
    "                    print(self.cqm.constraints[f'Activacion1_{i}^({k}, {h})'].to_polystring())\n",
    "\n",
    "\n",
    "        # Activacion 2\n",
    "        # a + 2*r = 1 + t\n",
    "        for i in range(self.N):\n",
    "            for k in range(self.L-2):\n",
    "                for h in range(self.H):\n",
    "                    self.cqm.add_constraint(self.a[i][k][h] + 2*self.r[i][k][h] - 1 - self.t[i][k][h] == 0, label=f'Activacion2_{i}^({k}, {h})')\n",
    "                    print(self.cqm.constraints[f'Activacion2_{i}^({k}, {h})'].to_polystring())\n",
    "\n",
    "        \n",
    "        # input layer\n",
    "        # Wx + b = s\n",
    "        for i in range(self.N):\n",
    "            for h in range(self.H):\n",
    "                constraint = 0\n",
    "                for n2 in range(self.n):\n",
    "                    constraint += self.W[0][h][n2] * x_data[i][n2]\n",
    "                self.cqm.add_constraint(constraint + self.b[0][h] - self.s[i][0][h] == 0, label=f'Topologia_input_{i}^(1, {h})')\n",
    "                print(self.cqm.constraints[f'Topologia_input_{i}^(1, {h})'].to_polystring())\n",
    "\n",
    "        # hidden layers\n",
    "        # Wa + H - 1 = s\n",
    "        for i in range(self.N):\n",
    "            for k in range(1, self.L-2):\n",
    "                for h in range(self.H):\n",
    "                    constraint = 0\n",
    "                    for h2 in range(self.H):\n",
    "                        constraint += self.W[k][h][h2] * self.a[i][k-1][h2]\n",
    "                    self.cqm.add_constraint(constraint + self.H - 1 - self.s[i][k][h] == 0, label=f'Topologia_hidden_{i}^({k}, {h})')\n",
    "                    print(self.cqm.constraints[f'Topologia_hidden_{i}^({k}, {h})'].to_polystring())\n",
    "\n",
    "        # Output layer\n",
    "        # Wa + b = y\n",
    "        for i in range(self.N):\n",
    "            for m2 in range(self.m):\n",
    "                constraint = 0\n",
    "                for h in range(self.H):\n",
    "                    constraint += self.W[self.L-2][m2][h] * self.a[i][self.L-3][h]\n",
    "                \n",
    "                self.cqm.add_constraint(constraint + self.b[1][m2] - self.y_hat[i][m2] == 0, label=f'Topologia_output_{i}^({self.L-2}, {m2})')\n",
    "                print(self.cqm.constraints[f'Topologia_output_{i}^({self.L-2}, {m2})'].to_polystring())\n",
    "\n"
   ]
  },
  {
   "cell_type": "code",
   "execution_count": 3,
   "metadata": {},
   "outputs": [],
   "source": [
    "class QNN():\n",
    "    def __init__(self, s, activation='sign'):\n",
    "        self.s = s\n",
    "        self.w_in, self.w_hidden, self.w_out  = s.weights_in, s.weights_hidden, s.weights_out\n",
    "        self.b_in, self.b_out = s.bias_in, s.bias_out\n",
    "        self.activation = activation\n",
    "\n",
    "\n",
    "    def activation(self, node):\n",
    "        if self.activation == 'sign':\n",
    "            if node >= 0:\n",
    "                return 1\n",
    "            else:\n",
    "                return -1\n",
    "        elif self.activation == 'abs':\n",
    "            return abs(node)\n",
    "        \n",
    "        \n",
    "    def predict(self, x_in):\n",
    "        x = []\n",
    "\n",
    "        n = self.s.qnn.n\n",
    "        m = self.s.qnn.m\n",
    "        L = self.s.qnn.L\n",
    "        H = self.s.qnn.H\n",
    "        \n",
    "        for h in range(H):\n",
    "            node = 0\n",
    "            for n2 in range(n):\n",
    "                node += self.w_in[h][n2] * x_in[n2]\n",
    "            node += self.b_in[h]\n",
    "            x.append(self.activation(node))\n",
    "        \n",
    "        \n",
    "        for k in range(1, L-2):\n",
    "            x_in = x\n",
    "            x = []\n",
    "\n",
    "            for h in range(H):\n",
    "                node = 0\n",
    "                for h2 in range(H):\n",
    "                    node += self.w_hidden[k-1][h][h2] * x_in[h2]\n",
    "                node += H - 1\n",
    "                x.append(self.activation(node))\n",
    "        x_in = x\n",
    "        x = []\n",
    "        for m2 in range(m):\n",
    "            node = 0\n",
    "            for h in range(H):\n",
    "                node += self.w_out[m2][h] * x_in[h]\n",
    "            node += self.b_out[m2]\n",
    "            x.append(node)\n",
    "        \n",
    "        return x[0]\n",
    "    \n",
    "    def prediction_to_class(self, y_out):\n",
    "        if y_out <= 2:\n",
    "            return -1\n",
    "        else:\n",
    "            return 1\n",
    "        \n",
    "\n",
    "    def predict_array(self, input_data, to_class=True):\n",
    "        res = []\n",
    "        for x_ in input_data:\n",
    "            if to_class:\n",
    "                res.append(self.prediction_to_class(self.predict(x_)))\n",
    "            else:\n",
    "                res.append(self.predict(x_))\n",
    "        \n",
    "        return np.array(res)\n",
    "    \n",
    "\n",
    "    def plot_surface_decision(self, x_data, y_data):\n",
    "        # generate dataset\n",
    "        X, y = np.array(x_data), np.array(y_data).flatten\n",
    "        # define bounds of the domain\n",
    "        min1, max1 = X[:, 0].min()-1, X[:, 0].max()+1\n",
    "        min2, max2 = X[:, 1].min()-1, X[:, 1].max()+1\n",
    "        # define the x and y scale\n",
    "        x1grid = arange(min1, max1, 0.1)\n",
    "        x2grid = arange(min2, max2, 0.1)\n",
    "        # create all of the lines and rows of the grid\n",
    "        xx, yy = meshgrid(x1grid, x2grid)\n",
    "        # flatten each grid to a vector\n",
    "        r1, r2 = xx.flatten(), yy.flatten()\n",
    "        r1, r2 = r1.reshape((len(r1), 1)), r2.reshape((len(r2), 1))\n",
    "        # horizontal stack vectors to create x1,x2 input for the model\n",
    "        grid = hstack((r1,r2))\n",
    "\n",
    "        # make predictions for the grid\n",
    "        yhat = self.predict_array(grid)\n",
    "        # reshape the predictions back into a grid\n",
    "        zz = yhat.reshape(xx.shape)\n",
    "        # plot the grid of x, y and z values as a surface\n",
    "        pyplot.contourf(xx, yy, zz, cmap='Paired')\n",
    "\n",
    "        # show the plot\n",
    "        x1_data = [i[0] for i in x_data]\n",
    "        x2_data = [i[1] for i in x_data]\n",
    "        y_map = [i[0] for i in y_data]\n",
    "\n",
    "        pyplot.scatter(x1_data, x2_data, c=y_map)\n",
    "        pyplot.show()"
   ]
  },
  {
   "cell_type": "code",
   "execution_count": 4,
   "metadata": {},
   "outputs": [],
   "source": [
    "class Sample():\n",
    "\n",
    "    def __init__(self, x_data, y_data, qnn=None, label = 'QNN'):\n",
    "        self.N = len(x_data)\n",
    "        self.x_data = x_data\n",
    "        self.y_data = y_data\n",
    "        self.label = label\n",
    "        self.qnn = qnn\n",
    "\n",
    "        if self.qnn is None:\n",
    "            self.qnn = QNN_QUBO(N=self.N)\n",
    "\n",
    "        self.sampleset = None\n",
    "\n",
    "        TOKEN = \"\"\n",
    "        self.sampler = LeapHybridCQMSampler(token=TOKEN)\n",
    "\n",
    "    def create_qubo(self, verbose=False):\n",
    "        self.qnn.create_bounds()\n",
    "        self.qnn.create_variables()\n",
    "\n",
    "        if verbose == True:\n",
    "            file = open(self.label+'.txt', 'a')\n",
    "            sys.stdout = file\n",
    "        \n",
    "        self.qnn.set_objective(self.y_data, 10)\n",
    "        self.qnn.set_contraints(self.x_data)\n",
    "        \n",
    "        if verbose == True:\n",
    "            sys.stdout = stdout\n",
    "            file.close()\n",
    "        \n",
    "            \n",
    "    \n",
    "    def run(self):\n",
    "        self.sampleset = self.sampler.sample_cqm(self.qnn.cqm,\n",
    "                            time_limit=20,\n",
    "                            label=self.label)\n",
    "        \n",
    "        self.save_sample()\n",
    "        \n",
    "    def process_samples(self):\n",
    "        print(\"{} posibles soluciones de {}\".format(\n",
    "            self.sampleset.record.is_feasible.sum(), len(self.sampleset)\n",
    "        ))\n",
    "        self.feasibles  = self.sampleset.filter(lambda row: row.is_feasible)\n",
    "        self.best = self.feasibles.first\n",
    "\n",
    "\n",
    "    def save_sample(self):\n",
    "        if self.sampleset is not None:\n",
    "            fileName = self.label + \".pkl\"\n",
    "            with open(fileName, 'wb') as file:\n",
    "                pickle.dump(self.sampleset.to_serializable(), file)\n",
    "\n",
    "\n",
    "    def load_sample(self, fileName='test.pkl'):\n",
    "        with open(fileName, 'rb') as file:\n",
    "            self.sampleset = SampleSet.from_serializable(pickle.load(file))\n",
    "        \n",
    "    \n",
    "    def decode_solution(self, solution=None):\n",
    "        if (solution is None):\n",
    "            solution = self.best\n",
    "\n",
    "        self.weights_in = [[solution.sample[f'W^({1})_{h}_{n2}'] for n2 in range(self.qnn.n)] for h in range(self.qnn.H)]\n",
    "        self.weights_hidden = [[[solution.sample[f'W^({k})_{h}_{h2}'] for h2 in range(self.qnn.H)] for h in range(self.qnn.H)] for k in range(2, self.qnn.L - 1)]\n",
    "        self.weights_out = [[solution.sample[f'W^({self.qnn.L-1})_{h}_{m2}'] for h in range(self.qnn.H)] for m2 in range(self.qnn.m)]\n",
    "\n",
    "        self.bias_in = [solution.sample[f'b^({1})_{h}'] for h in range(self.qnn.H)]\n",
    "        self.bias_out = [solution.sample[f'b^({self.qnn.L-1})_{m2}'] for m2 in range(self.qnn.m)]\n",
    "\n",
    "        return QNN(self)\n",
    "        #return QNN(self.weights_in, self.weights_hidden, self.weights_out, self.bias_in, self.bias_out)"
   ]
  },
  {
   "cell_type": "markdown",
   "metadata": {},
   "source": [
    "# Point Classification"
   ]
  },
  {
   "cell_type": "code",
   "execution_count": 194,
   "metadata": {},
   "outputs": [],
   "source": [
    "x_data = [[-3, -3], \n",
    "        [-2, -3], \n",
    "        [-2, 0],\n",
    "        [-3, -1],\n",
    "        [0, -3],\n",
    "\n",
    "\n",
    "        [2, 2], \n",
    "        [1, 3], \n",
    "        [3, 2], \n",
    "        [1, 1], \n",
    "        [0, 3]]\n",
    "\n",
    "y_data = [[-1], [-1], [-1], [-1], [-1], [1], [1], [1], [1], [1]]\n",
    "\n",
    "\n",
    "N = len(x_data)"
   ]
  },
  {
   "cell_type": "code",
   "execution_count": 206,
   "metadata": {},
   "outputs": [],
   "source": [
    "qubo = QNN_QUBO(N=N, L=4, H=2, n=2, m=1, P=100)"
   ]
  },
  {
   "cell_type": "code",
   "execution_count": 207,
   "metadata": {},
   "outputs": [],
   "source": [
    "s = Sample(x_data=x_data, y_data=y_data, qnn=qubo, label='QNN Classification 5 Complex')"
   ]
  },
  {
   "cell_type": "code",
   "execution_count": 208,
   "metadata": {},
   "outputs": [],
   "source": [
    "s.create_qubo(verbose=True)"
   ]
  },
  {
   "cell_type": "code",
   "execution_count": 199,
   "metadata": {},
   "outputs": [],
   "source": [
    "s.run()"
   ]
  },
  {
   "cell_type": "code",
   "execution_count": 209,
   "metadata": {},
   "outputs": [],
   "source": [
    "s.load_sample('QNN Classification 5 Complex.pkl')"
   ]
  },
  {
   "cell_type": "code",
   "execution_count": 210,
   "metadata": {},
   "outputs": [
    {
     "name": "stdout",
     "output_type": "stream",
     "text": [
      "133 posibles soluciones de 148\n"
     ]
    }
   ],
   "source": [
    "s.process_samples()"
   ]
  },
  {
   "cell_type": "code",
   "execution_count": 201,
   "metadata": {},
   "outputs": [
    {
     "data": {
      "text/plain": [
       "Sample(sample={'W^(1)_0_0': 1.0, 'W^(1)_0_1': 1.0, 'W^(1)_1_0': -1.0, 'W^(1)_1_1': -1.0, 'W^(2)_0_0': -1.0, 'W^(2)_0_1': -1.0, 'W^(2)_1_0': 1.0, 'W^(2)_1_1': 1.0, 'W^(3)_0_0': 1.0, 'W^(3)_1_0': 1.0, 'a_0^(1_0)': 1.0, 'a_0^(1_1)': 1.0, 'a_0^(2_0)': -1.0, 'a_0^(2_1)': 1.0, 'a_1^(1_0)': 1.0, 'a_1^(1_1)': 1.0, 'a_1^(2_0)': -1.0, 'a_1^(2_1)': 1.0, 'a_2^(1_0)': 1.0, 'a_2^(1_1)': 1.0, 'a_2^(2_0)': -1.0, 'a_2^(2_1)': 1.0, 'a_3^(1_0)': 1.0, 'a_3^(1_1)': 1.0, 'a_3^(2_0)': -1.0, 'a_3^(2_1)': 1.0, 'a_4^(1_0)': 1.0, 'a_4^(1_1)': 1.0, 'a_4^(2_0)': -1.0, 'a_4^(2_1)': 1.0, 'a_5^(1_0)': 1.0, 'a_5^(1_1)': -1.0, 'a_5^(2_0)': 1.0, 'a_5^(2_1)': 1.0, 'a_6^(1_0)': 1.0, 'a_6^(1_1)': -1.0, 'a_6^(2_0)': 1.0, 'a_6^(2_1)': 1.0, 'a_7^(1_0)': 1.0, 'a_7^(1_1)': -1.0, 'a_7^(2_0)': 1.0, 'a_7^(2_1)': 1.0, 'a_8^(1_0)': 1.0, 'a_8^(1_1)': 1.0, 'a_8^(2_0)': -1.0, 'a_8^(2_1)': 1.0, 'a_9^(1_0)': 1.0, 'a_9^(1_1)': -1.0, 'a_9^(2_0)': 1.0, 'a_9^(2_1)': 1.0, 'b^(1)_0': 14.0, 'b^(1)_1': 2.0, 'b^(3)_0': -1.0, 'r_0^(1)_0': 8.0, 'r_0^(1)_1': 8.0, 'r_0^(2)_0': 1.0, 'r_0^(2)_1': 3.0, 'r_1^(1)_0': 9.0, 'r_1^(1)_1': 7.0, 'r_1^(2)_0': 1.0, 'r_1^(2)_1': 3.0, 'r_2^(1)_0': 12.0, 'r_2^(1)_1': 4.0, 'r_2^(2)_0': 1.0, 'r_2^(2)_1': 3.0, 'r_3^(1)_0': 10.0, 'r_3^(1)_1': 6.0, 'r_3^(2)_0': 1.0, 'r_3^(2)_1': 3.0, 'r_4^(1)_0': 11.0, 'r_4^(1)_1': 5.0, 'r_4^(2)_0': 1.0, 'r_4^(2)_1': 3.0, 'r_5^(1)_0': 18.0, 'r_5^(1)_1': 2.0, 'r_5^(2)_0': 1.0, 'r_5^(2)_1': 1.0, 'r_6^(1)_0': 18.0, 'r_6^(1)_1': 2.0, 'r_6^(2)_0': 1.0, 'r_6^(2)_1': 1.0, 'r_7^(1)_0': 19.0, 'r_7^(1)_1': 3.0, 'r_7^(2)_0': 1.0, 'r_7^(2)_1': 1.0, 'r_8^(1)_0': 16.0, 'r_8^(1)_1': 0.0, 'r_8^(2)_0': 1.0, 'r_8^(2)_1': 3.0, 'r_9^(1)_0': 17.0, 'r_9^(1)_1': 1.0, 'r_9^(2)_0': 1.0, 'r_9^(2)_1': 1.0, 's_0^(1_0)': 8.0, 's_0^(1_1)': 8.0, 's_0^(2_0)': -1.0, 's_0^(2_1)': 3.0, 's_1^(1_0)': 9.0, 's_1^(1_1)': 7.0, 's_1^(2_0)': -1.0, 's_1^(2_1)': 3.0, 's_2^(1_0)': 12.0, 's_2^(1_1)': 4.0, 's_2^(2_0)': -1.0, 's_2^(2_1)': 3.0, 's_3^(1_0)': 10.0, 's_3^(1_1)': 6.0, 's_3^(2_0)': -1.0, 's_3^(2_1)': 3.0, 's_4^(1_0)': 11.0, 's_4^(1_1)': 5.0, 's_4^(2_0)': -1.0, 's_4^(2_1)': 3.0, 's_5^(1_0)': 18.0, 's_5^(1_1)': -2.0, 's_5^(2_0)': 1.0, 's_5^(2_1)': 1.0, 's_6^(1_0)': 18.0, 's_6^(1_1)': -2.0, 's_6^(2_0)': 1.0, 's_6^(2_1)': 1.0, 's_7^(1_0)': 19.0, 's_7^(1_1)': -3.0, 's_7^(2_0)': 1.0, 's_7^(2_1)': 1.0, 's_8^(1_0)': 16.0, 's_8^(1_1)': 0.0, 's_8^(2_0)': -1.0, 's_8^(2_1)': 3.0, 's_9^(1_0)': 17.0, 's_9^(1_1)': -1.0, 's_9^(2_0)': 1.0, 's_9^(2_1)': 1.0, 't_0^(1)_0': 16.0, 't_0^(1)_1': 16.0, 't_0^(2)_0': 0.0, 't_0^(2)_1': 6.0, 't_1^(1)_0': 18.0, 't_1^(1)_1': 14.0, 't_1^(2)_0': 0.0, 't_1^(2)_1': 6.0, 't_2^(1)_0': 24.0, 't_2^(1)_1': 8.0, 't_2^(2)_0': 0.0, 't_2^(2)_1': 6.0, 't_3^(1)_0': 20.0, 't_3^(1)_1': 12.0, 't_3^(2)_0': 0.0, 't_3^(2)_1': 6.0, 't_4^(1)_0': 22.0, 't_4^(1)_1': 10.0, 't_4^(2)_0': 0.0, 't_4^(2)_1': 6.0, 't_5^(1)_0': 36.0, 't_5^(1)_1': 2.0, 't_5^(2)_0': 2.0, 't_5^(2)_1': 2.0, 't_6^(1)_0': 36.0, 't_6^(1)_1': 2.0, 't_6^(2)_0': 2.0, 't_6^(2)_1': 2.0, 't_7^(1)_0': 38.0, 't_7^(1)_1': 4.0, 't_7^(2)_0': 2.0, 't_7^(2)_1': 2.0, 't_8^(1)_0': 32.0, 't_8^(1)_1': 0.0, 't_8^(2)_0': 0.0, 't_8^(2)_1': 6.0, 't_9^(1)_0': 34.0, 't_9^(1)_1': 0.0, 't_9^(2)_0': 2.0, 't_9^(2)_1': 2.0, 'y-hat_0_0': -1.0, 'y-hat_1_0': -1.0, 'y-hat_2_0': -1.0, 'y-hat_3_0': -1.0, 'y-hat_4_0': -1.0, 'y-hat_5_0': 1.0, 'y-hat_6_0': 1.0, 'y-hat_7_0': 1.0, 'y-hat_8_0': -1.0, 'y-hat_9_0': 1.0}, energy=16.0, num_occurrences=1, is_satisfied=array([ True,  True,  True,  True,  True,  True,  True,  True,  True,\n",
       "        True,  True,  True,  True,  True,  True,  True,  True,  True,\n",
       "        True,  True,  True,  True,  True,  True,  True,  True,  True,\n",
       "        True,  True,  True,  True,  True,  True,  True,  True,  True,\n",
       "        True,  True,  True,  True,  True,  True,  True,  True,  True,\n",
       "        True,  True,  True,  True,  True,  True,  True,  True,  True,\n",
       "        True,  True,  True,  True,  True,  True,  True,  True,  True,\n",
       "        True,  True,  True,  True,  True,  True,  True,  True,  True,\n",
       "        True,  True,  True,  True,  True,  True,  True,  True,  True,\n",
       "        True,  True,  True,  True,  True,  True,  True,  True,  True,\n",
       "        True,  True,  True,  True,  True,  True,  True,  True,  True,\n",
       "        True,  True,  True,  True,  True,  True,  True,  True,  True,\n",
       "        True,  True,  True,  True,  True,  True,  True,  True,  True,\n",
       "        True,  True,  True,  True,  True,  True,  True,  True,  True,\n",
       "        True,  True,  True,  True]), is_feasible=True)"
      ]
     },
     "execution_count": 201,
     "metadata": {},
     "output_type": "execute_result"
    }
   ],
   "source": [
    "s.best"
   ]
  },
  {
   "cell_type": "code",
   "execution_count": 211,
   "metadata": {},
   "outputs": [],
   "source": [
    "qnn = s.decode_solution()"
   ]
  },
  {
   "cell_type": "code",
   "execution_count": 212,
   "metadata": {},
   "outputs": [
    {
     "data": {
      "image/png": "[encoded data removed]",
      "text/plain": [
       "<Figure size 640x480 with 1 Axes>"
      ]
     },
     "metadata": {},
     "output_type": "display_data"
    }
   ],
   "source": [
    "qnn.plot_surface_decision(x_data=x_data, y_data=y_data)"
   ]
  },
  {
   "cell_type": "code",
   "execution_count": 6,
   "metadata": {},
   "outputs": [],
   "source": [
    "x_data = [[4, -2], \n",
    "        [4, 2], \n",
    "        [3, 0],\n",
    "        [6, -3],\n",
    "        [-4, 2],\n",
    "        [-4, -2],\n",
    "        [-3, 1],\n",
    "        [-7, -4],\n",
    "        [7, 3],\n",
    "        [-6, 1],\n",
    "    \n",
    "\n",
    "        [0, -3], \n",
    "        [1, -4], \n",
    "        [-2, -5], \n",
    "        [5, -8], \n",
    "        [-5, -9], \n",
    "        [4, 7], \n",
    "        [0, 3], \n",
    "        [-4, 6], \n",
    "        [-1, 7],\n",
    "        [2, 6]\n",
    "        ]\n",
    "\n",
    "y_data = [[-10], [-10], [-10], [-10], [-10], [-10], [-10], [-10], [-10], [-10], [10], [10], [10], [10], [10], [10], [10], [10], [10], [10]]"
   ]
  },
  {
   "cell_type": "code",
   "execution_count": 7,
   "metadata": {},
   "outputs": [
    {
     "data": {
      "text/plain": [
       "(-10.0, 10.0)"
      ]
     },
     "execution_count": 7,
     "metadata": {},
     "output_type": "execute_result"
    },
    {
     "data": {
      "image/png": "[encoded data removed]",
      "text/plain": [
       "<Figure size 640x480 with 1 Axes>"
      ]
     },
     "metadata": {},
     "output_type": "display_data"
    }
   ],
   "source": [
    "import matplotlib.pyplot as plt\n",
    "x1_data = [i[0] for i in x_data]\n",
    "x2_data = [i[1] for i in x_data]\n",
    "color = {-10: \"blue\", 10: \"red\"}\n",
    "y_map = [color[i[0]] for i in y_data]\n",
    "marker = {\"blue\": 'o', \"red\": '^'}\n",
    "y_marker = [marker[i] for i in y_map]\n",
    "        \n",
    "\n",
    "plt.scatter(x1_data[:10], x2_data[:10], c=y_map[:10], marker='^')\n",
    "plt.scatter(x1_data[10:], x2_data[10:], c=y_map[10:], marker='o')\n",
    "plt.xticks([-10, -5, 0, 5, 10])\n",
    "plt.yticks([-10, -5, 0, 5, 10])\n",
    "plt.xlim([-10, 10])\n",
    "plt.ylim([-10, 10])"
   ]
  },
  {
   "cell_type": "markdown",
   "metadata": {},
   "source": [
    "# MNIST Classification"
   ]
  },
  {
   "cell_type": "code",
   "execution_count": 4,
   "metadata": {},
   "outputs": [],
   "source": [
    "from sklearn.datasets import fetch_openml\n",
    "\n",
    "X, y = fetch_openml(\"mnist_784\", version=1, return_X_y=True, as_frame=False)\n",
    "X = np.reshape(X, (X.shape[0], 28, 28))"
   ]
  },
  {
   "cell_type": "code",
   "execution_count": 5,
   "metadata": {},
   "outputs": [],
   "source": [
    "num1, num2 = 6, 7\n",
    "x_data, y_data = [], []\n",
    "y_map = {num1: -1, num2: 1}\n",
    "\n",
    "for x_, y_ in zip(X, y):\n",
    "    if int(y_) == num1 or int(y_) == num2:\n",
    "        x_data.append(x_)\n",
    "        y_data.append(y_map[int(y_)])\n",
    "\n",
    "x_data = np.array(x_data)\n",
    "y_data = np.array(y_data)\n",
    "\n",
    "assert(x_data.shape[0] == y_data.shape[0])"
   ]
  },
  {
   "cell_type": "code",
   "execution_count": 16,
   "metadata": {},
   "outputs": [
    {
     "data": {
      "image/png": "[encoded data removed]",
      "text/plain": [
       "<Figure size 640x480 with 1 Axes>"
      ]
     },
     "metadata": {},
     "output_type": "display_data"
    }
   ],
   "source": [
    "plt.imshow(x_data[6], cmap='viridis')\n",
    "plt.show()"
   ]
  },
  {
   "cell_type": "code",
   "execution_count": 38,
   "metadata": {},
   "outputs": [],
   "source": [
    "x_train = []\n",
    "x_train2 = []\n",
    "y_train = []\n",
    "N = 20\n",
    "first_pass = -1\n",
    "idx = 0\n",
    "i = 0\n",
    "\n",
    "while(i < N):\n",
    "    if (y_data[idx] != first_pass):\n",
    "        idx += 1\n",
    "        continue\n",
    "    if (i == N//2 - 1):\n",
    "        first_pass = 1\n",
    "\n",
    "    i += 1\n",
    "    image = block_reduce(x_data[idx], block_size=(14, 14), func=np.mean)\n",
    "    x_train2.append(image.astype(int).flatten())\n",
    "    image /= 5.0\n",
    "    image = image.astype(int)\n",
    "\n",
    "    x_train.append(image.flatten())\n",
    "    y_train.append(y_data[idx])\n",
    "    \n",
    "\n",
    "y_train = np.reshape(y_train, (len(y_train), 1))"
   ]
  },
  {
   "cell_type": "code",
   "execution_count": 54,
   "metadata": {},
   "outputs": [
    {
     "data": {
      "image/png": "[encoded data removed]",
      "text/plain": [
       "<Figure size 640x480 with 1 Axes>"
      ]
     },
     "metadata": {},
     "output_type": "display_data"
    }
   ],
   "source": [
    "plt.imshow(x_train[11].reshape((2, 2)), cmap='viridis')\n",
    "plt.xticks([0, 1])\n",
    "plt.yticks([0, 1])\n",
    "plt.show()"
   ]
  },
  {
   "cell_type": "code",
   "execution_count": 24,
   "metadata": {},
   "outputs": [],
   "source": [
    "x_test = []\n",
    "y_test = []\n",
    "test_size = 1000\n",
    "\n",
    "for i in range(test_size):\n",
    "    idx = round(np.random.uniform(1, x_data.shape[0]))\n",
    "    image = block_reduce(x_data[idx], block_size=(14, 14), func=np.mean)\n",
    "    image /= 5.0\n",
    "    image = image.astype(int)\n",
    "\n",
    "    x_test.append(image.flatten())\n",
    "    y_test.append(y_data[idx])"
   ]
  },
  {
   "cell_type": "code",
   "execution_count": 10,
   "metadata": {},
   "outputs": [
    {
     "data": {
      "image/png": "[encoded data removed]",
      "text/plain": [
       "<Figure size 640x480 with 1 Axes>"
      ]
     },
     "metadata": {},
     "output_type": "display_data"
    }
   ],
   "source": [
    "plt.imshow(x_train[0].reshape((2, 2)))\n",
    "plt.show()"
   ]
  },
  {
   "cell_type": "code",
   "execution_count": 80,
   "metadata": {},
   "outputs": [],
   "source": [
    "qubo = QNN_QUBO(N=N, L=3, H=2, n=4, m=1, P=100)"
   ]
  },
  {
   "cell_type": "code",
   "execution_count": 81,
   "metadata": {},
   "outputs": [],
   "source": [
    "s = Sample(x_data=x_train, y_data=y_train, qnn=qubo, label='QNN MNIST big network ')"
   ]
  },
  {
   "cell_type": "code",
   "execution_count": 82,
   "metadata": {},
   "outputs": [],
   "source": [
    "s.create_qubo(verbose=True)"
   ]
  },
  {
   "cell_type": "code",
   "execution_count": 83,
   "metadata": {},
   "outputs": [],
   "source": [
    "s.run()"
   ]
  },
  {
   "cell_type": "code",
   "execution_count": 84,
   "metadata": {},
   "outputs": [
    {
     "name": "stdout",
     "output_type": "stream",
     "text": [
      "99 posibles soluciones de 133\n"
     ]
    }
   ],
   "source": [
    "s.process_samples()"
   ]
  },
  {
   "cell_type": "code",
   "execution_count": 86,
   "metadata": {},
   "outputs": [
    {
     "data": {
      "text/plain": [
       "Sample(sample={'W^(1)_0_0': -1.0, 'W^(1)_0_1': -1.0, 'W^(1)_0_2': 1.0, 'W^(1)_0_3': -1.0, 'W^(1)_1_0': -1.0, 'W^(1)_1_1': -1.0, 'W^(1)_1_2': 1.0, 'W^(1)_1_3': -1.0, 'W^(2)_0_0': -1.0, 'W^(2)_1_0': -1.0, 'a_0^(1_0)': 1.0, 'a_0^(1_1)': 1.0, 'a_10^(1_0)': 1.0, 'a_10^(1_1)': -1.0, 'a_11^(1_0)': 1.0, 'a_11^(1_1)': -1.0, 'a_12^(1_0)': 1.0, 'a_12^(1_1)': -1.0, 'a_13^(1_0)': 1.0, 'a_13^(1_1)': -1.0, 'a_14^(1_0)': 1.0, 'a_14^(1_1)': -1.0, 'a_15^(1_0)': 1.0, 'a_15^(1_1)': -1.0, 'a_16^(1_0)': 1.0, 'a_16^(1_1)': -1.0, 'a_17^(1_0)': 1.0, 'a_17^(1_1)': -1.0, 'a_18^(1_0)': 1.0, 'a_18^(1_1)': -1.0, 'a_19^(1_0)': 1.0, 'a_19^(1_1)': -1.0, 'a_1^(1_0)': 1.0, 'a_1^(1_1)': 1.0, 'a_2^(1_0)': 1.0, 'a_2^(1_1)': 1.0, 'a_3^(1_0)': 1.0, 'a_3^(1_1)': 1.0, 'a_4^(1_0)': 1.0, 'a_4^(1_1)': 1.0, 'a_5^(1_0)': 1.0, 'a_5^(1_1)': 1.0, 'a_6^(1_0)': 1.0, 'a_6^(1_1)': 1.0, 'a_7^(1_0)': 1.0, 'a_7^(1_1)': 1.0, 'a_8^(1_0)': 1.0, 'a_8^(1_1)': 1.0, 'a_9^(1_0)': 1.0, 'a_9^(1_1)': 1.0, 'b^(1)_0': 13.0, 'b^(1)_1': 10.0, 'b^(2)_0': 1.0, 'r_0^(1)_0': 3.0, 'r_0^(1)_1': 0.0, 'r_10^(1)_0': 0.0, 'r_10^(1)_1': 3.0, 'r_11^(1)_0': 0.0, 'r_11^(1)_1': 3.0, 'r_12^(1)_0': 0.0, 'r_12^(1)_1': 3.0, 'r_13^(1)_0': 0.0, 'r_13^(1)_1': 3.0, 'r_14^(1)_0': 0.0, 'r_14^(1)_1': 3.0, 'r_15^(1)_0': 0.0, 'r_15^(1)_1': 3.0, 'r_16^(1)_0': 0.0, 'r_16^(1)_1': 3.0, 'r_17^(1)_0': 0.0, 'r_17^(1)_1': 3.0, 'r_18^(1)_0': 0.0, 'r_18^(1)_1': 3.0, 'r_19^(1)_0': 0.0, 'r_19^(1)_1': 3.0, 'r_1^(1)_0': 3.0, 'r_1^(1)_1': 0.0, 'r_2^(1)_0': 3.0, 'r_2^(1)_1': 0.0, 'r_3^(1)_0': 3.0, 'r_3^(1)_1': 0.0, 'r_4^(1)_0': 3.0, 'r_4^(1)_1': 0.0, 'r_5^(1)_0': 3.0, 'r_5^(1)_1': 0.0, 'r_6^(1)_0': 3.0, 'r_6^(1)_1': 0.0, 'r_7^(1)_0': 3.0, 'r_7^(1)_1': 0.0, 'r_8^(1)_0': 3.0, 'r_8^(1)_1': 0.0, 'r_9^(1)_0': 3.0, 'r_9^(1)_1': 0.0, 's_0^(1_0)': 3.0, 's_0^(1_1)': 0.0, 's_10^(1_0)': 0.0, 's_10^(1_1)': -3.0, 's_11^(1_0)': 0.0, 's_11^(1_1)': -3.0, 's_12^(1_0)': 0.0, 's_12^(1_1)': -3.0, 's_13^(1_0)': 0.0, 's_13^(1_1)': -3.0, 's_14^(1_0)': 0.0, 's_14^(1_1)': -3.0, 's_15^(1_0)': 0.0, 's_15^(1_1)': -3.0, 's_16^(1_0)': 0.0, 's_16^(1_1)': -3.0, 's_17^(1_0)': 0.0, 's_17^(1_1)': -3.0, 's_18^(1_0)': 0.0, 's_18^(1_1)': -3.0, 's_19^(1_0)': 0.0, 's_19^(1_1)': -3.0, 's_1^(1_0)': 3.0, 's_1^(1_1)': 0.0, 's_2^(1_0)': 3.0, 's_2^(1_1)': 0.0, 's_3^(1_0)': 3.0, 's_3^(1_1)': 0.0, 's_4^(1_0)': 3.0, 's_4^(1_1)': 0.0, 's_5^(1_0)': 3.0, 's_5^(1_1)': 0.0, 's_6^(1_0)': 3.0, 's_6^(1_1)': 0.0, 's_7^(1_0)': 3.0, 's_7^(1_1)': 0.0, 's_8^(1_0)': 3.0, 's_8^(1_1)': 0.0, 's_9^(1_0)': 3.0, 's_9^(1_1)': 0.0, 't_0^(1)_0': 6.0, 't_0^(1)_1': 0.0, 't_10^(1)_0': 0.0, 't_10^(1)_1': 4.0, 't_11^(1)_0': 0.0, 't_11^(1)_1': 4.0, 't_12^(1)_0': 0.0, 't_12^(1)_1': 4.0, 't_13^(1)_0': 0.0, 't_13^(1)_1': 4.0, 't_14^(1)_0': 0.0, 't_14^(1)_1': 4.0, 't_15^(1)_0': 0.0, 't_15^(1)_1': 4.0, 't_16^(1)_0': 0.0, 't_16^(1)_1': 4.0, 't_17^(1)_0': 0.0, 't_17^(1)_1': 4.0, 't_18^(1)_0': 0.0, 't_18^(1)_1': 4.0, 't_19^(1)_0': 0.0, 't_19^(1)_1': 4.0, 't_1^(1)_0': 6.0, 't_1^(1)_1': 0.0, 't_2^(1)_0': 6.0, 't_2^(1)_1': 0.0, 't_3^(1)_0': 6.0, 't_3^(1)_1': 0.0, 't_4^(1)_0': 6.0, 't_4^(1)_1': 0.0, 't_5^(1)_0': 6.0, 't_5^(1)_1': 0.0, 't_6^(1)_0': 6.0, 't_6^(1)_1': 0.0, 't_7^(1)_0': 6.0, 't_7^(1)_1': 0.0, 't_8^(1)_0': 6.0, 't_8^(1)_1': 0.0, 't_9^(1)_0': 6.0, 't_9^(1)_1': 0.0, 'y-hat_0_0': -1.0, 'y-hat_10_0': 1.0, 'y-hat_11_0': 1.0, 'y-hat_12_0': 1.0, 'y-hat_13_0': 1.0, 'y-hat_14_0': 1.0, 'y-hat_15_0': 1.0, 'y-hat_16_0': 1.0, 'y-hat_17_0': 1.0, 'y-hat_18_0': 1.0, 'y-hat_19_0': 1.0, 'y-hat_1_0': -1.0, 'y-hat_2_0': -1.0, 'y-hat_3_0': -1.0, 'y-hat_4_0': -1.0, 'y-hat_5_0': -1.0, 'y-hat_6_0': -1.0, 'y-hat_7_0': -1.0, 'y-hat_8_0': -1.0, 'y-hat_9_0': -1.0}, energy=0.0, num_occurrences=1, is_satisfied=array([ True,  True,  True,  True,  True,  True,  True,  True,  True,\n",
       "        True,  True,  True,  True,  True,  True,  True,  True,  True,\n",
       "        True,  True,  True,  True,  True,  True,  True,  True,  True,\n",
       "        True,  True,  True,  True,  True,  True,  True,  True,  True,\n",
       "        True,  True,  True,  True,  True,  True,  True,  True,  True,\n",
       "        True,  True,  True,  True,  True,  True,  True,  True,  True,\n",
       "        True,  True,  True,  True,  True,  True,  True,  True,  True,\n",
       "        True,  True,  True,  True,  True,  True,  True,  True,  True,\n",
       "        True,  True,  True,  True,  True,  True,  True,  True,  True,\n",
       "        True,  True,  True,  True,  True,  True,  True,  True,  True,\n",
       "        True,  True,  True,  True,  True,  True,  True,  True,  True,\n",
       "        True,  True,  True,  True,  True,  True,  True,  True,  True,\n",
       "        True,  True,  True,  True,  True,  True,  True,  True,  True,\n",
       "        True,  True,  True,  True,  True,  True,  True,  True,  True,\n",
       "        True,  True,  True,  True,  True,  True,  True,  True,  True,\n",
       "        True,  True,  True,  True,  True]), is_feasible=True)"
      ]
     },
     "execution_count": 86,
     "metadata": {},
     "output_type": "execute_result"
    }
   ],
   "source": [
    "s.best"
   ]
  },
  {
   "cell_type": "code",
   "execution_count": 87,
   "metadata": {},
   "outputs": [],
   "source": [
    "qnn = s.decode_solution()"
   ]
  },
  {
   "cell_type": "code",
   "execution_count": 92,
   "metadata": {},
   "outputs": [],
   "source": [
    "y_pred = []\n",
    "for i in range(test_size):\n",
    "    y_pred.append(qnn.predict(x_test[i]))\n",
    "    if (y_pred[i] >= 0):\n",
    "        y_pred[i] = 1\n",
    "    else:\n",
    "        y_pred[i] = -1"
   ]
  },
  {
   "cell_type": "code",
   "execution_count": 93,
   "metadata": {},
   "outputs": [],
   "source": [
    "confusion = confusion_matrix(y_test, y_pred, normalize='true')\n",
    "df_conf = pd.DataFrame(confusion).rename_axis(\"True Label\", axis=0).rename_axis(\"Predicted Label\", axis=1)"
   ]
  },
  {
   "cell_type": "code",
   "execution_count": null,
   "metadata": {},
   "outputs": [],
   "source": [
    "sn.heatmap(df_conf, annot=True, cmap='crest', xticklabels=[num1, num2], yticklabels=[num1, num2])"
   ]
  },
  {
   "cell_type": "code",
   "execution_count": 95,
   "metadata": {},
   "outputs": [
    {
     "data": {
      "image/png": "[encoded data removed]",
      "text/plain": [
       "<Figure size 640x480 with 1 Axes>"
      ]
     },
     "metadata": {},
     "output_type": "display_data"
    },
    {
     "data": {
      "image/png": "[encoded data removed]",
      "text/plain": [
       "<Figure size 640x480 with 1 Axes>"
      ]
     },
     "metadata": {},
     "output_type": "display_data"
    },
    {
     "name": "stdout",
     "output_type": "stream",
     "text": [
      "Correct -1\n",
      "Predicted: -1.0\n"
     ]
    }
   ],
   "source": [
    "sample = 2\n",
    "\n",
    "image = block_reduce(x_data[sample], block_size=(14, 14), func=np.mean)\n",
    "image /= 5.0\n",
    "image = image.astype(int).flatten()\n",
    "\n",
    "plt.imshow(image.reshape((2, 2)))\n",
    "plt.show()\n",
    "plt.imshow(x_data[sample])\n",
    "plt.show()\n",
    "\n",
    "print(f\"Correct {y_data[sample]}\")\n",
    "print(f\"Predicted: {qnn.predict(image)}\")"
   ]
  }
 ],
 "metadata": {
  "kernelspec": {
   "display_name": "tfg-env",
   "language": "python",
   "name": "python3"
  },
  "language_info": {
   "codemirror_mode": {
    "name": "ipython",
    "version": 3
   },
   "file_extension": ".py",
   "mimetype": "text/x-python",
   "name": "python",
   "nbconvert_exporter": "python",
   "pygments_lexer": "ipython3",
   "version": "3.11.5"
  }
 },
 "nbformat": 4,
 "nbformat_minor": 2
}
